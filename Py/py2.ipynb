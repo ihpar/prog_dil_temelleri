{
 "cells": [
  {
   "cell_type": "markdown",
   "metadata": {},
   "source": [
    "input okuma"
   ]
  },
  {
   "cell_type": "code",
   "execution_count": null,
   "metadata": {},
   "outputs": [],
   "source": [
    "ad = input(\"Adiniz:\")\n",
    "print(f\"Merhaba {ad}\")\n"
   ]
  },
  {
   "cell_type": "code",
   "execution_count": null,
   "metadata": {},
   "outputs": [],
   "source": [
    "sonuc = input(\"-->\")  # 3+4\n",
    "print(sonuc)\n"
   ]
  },
  {
   "cell_type": "code",
   "execution_count": null,
   "metadata": {},
   "outputs": [],
   "source": [
    "num = input(\"Bir sayi giriniz:\")\n",
    "yarisi = int(num) / 2\n",
    "print(str(num) + \" sayisinin yarisi = \" + str(yarisi))\n"
   ]
  },
  {
   "cell_type": "markdown",
   "metadata": {},
   "source": [
    "default parameter"
   ]
  },
  {
   "cell_type": "code",
   "execution_count": null,
   "metadata": {},
   "outputs": [],
   "source": [
    "def bol(bolunen, bolen=2):\n",
    "    return bolunen / bolen\n"
   ]
  },
  {
   "cell_type": "code",
   "execution_count": null,
   "metadata": {},
   "outputs": [],
   "source": [
    "num = input(\"Bir sayi giriniz:\")\n",
    "print(f\"{num} sayisinin yarisi = {bol(int(num))}\")\n"
   ]
  },
  {
   "cell_type": "code",
   "execution_count": null,
   "metadata": {},
   "outputs": [],
   "source": [
    "n1 = int(input(\"Bir sayi giriniz:\"))\n",
    "n2 = int(input(\"Bir sayi daha giriniz:\"))\n",
    "\n",
    "bolum = bol(n1, n1)\n",
    "print(f\"{n1} / {n2} = {bolum}\")\n"
   ]
  },
  {
   "cell_type": "code",
   "execution_count": null,
   "metadata": {},
   "outputs": [],
   "source": [
    "def printer(a, b=12, c=\"hey\"):\n",
    "    print(a, b, c)\n",
    "\n",
    "\n",
    "printer(7)\n",
    "printer(8, 9)\n",
    "printer(1, 2, 3)\n"
   ]
  },
  {
   "cell_type": "code",
   "execution_count": null,
   "metadata": {},
   "outputs": [],
   "source": [
    "def something_something(a=3, b):\n",
    "    print(a * b)\n"
   ]
  },
  {
   "cell_type": "code",
   "execution_count": null,
   "metadata": {},
   "outputs": [],
   "source": [
    "def sum_all(num, *args):\n",
    "    total = num\n",
    "    for arg in args:\n",
    "        total += arg\n",
    "    return total\n",
    "\n",
    "\n",
    "print(sum_all(1, 2, 3, 4))\n"
   ]
  },
  {
   "cell_type": "code",
   "execution_count": null,
   "metadata": {},
   "outputs": [],
   "source": [
    "def hello_all(name, age, **kwargs):\n",
    "    print(f\"Hello {name} - {age}\")\n",
    "    for k, v in kwargs.items():\n",
    "        print(f\"Hello {k} - {v}\")\n",
    "\n",
    "\n",
    "hello_all(\"ismail\", 17, ali=22, ayse=21)\n"
   ]
  },
  {
   "cell_type": "markdown",
   "metadata": {},
   "source": [
    "istisnalar (exceptions)"
   ]
  },
  {
   "cell_type": "code",
   "execution_count": null,
   "metadata": {},
   "outputs": [],
   "source": [
    "def bol(num1, num2):\n",
    "    return num1 / num2\n"
   ]
  },
  {
   "cell_type": "code",
   "execution_count": null,
   "metadata": {},
   "outputs": [],
   "source": [
    "n1 = int(input(\"Bir sayi giriniz:\"))  # 5\n",
    "n2 = int(input(\"Bir sayi daha giriniz:\"))  # 0\n",
    "\n",
    "bolum = bol(n1, n2)\n",
    "\n",
    "print(bolum)\n"
   ]
  },
  {
   "cell_type": "code",
   "execution_count": null,
   "metadata": {},
   "outputs": [],
   "source": [
    "def bol(num1, num2):\n",
    "    try:\n",
    "        return num1 / num2\n",
    "    except:\n",
    "        return \"İşlem başarisiz!\"\n"
   ]
  },
  {
   "cell_type": "code",
   "execution_count": null,
   "metadata": {},
   "outputs": [],
   "source": [
    "n1 = int(input(\"Bir sayi giriniz:\"))  # 5\n",
    "n2 = int(input(\"Bir sayi daha giriniz:\"))  # 0\n",
    "\n",
    "bolum = bol(n1, n2)\n",
    "\n",
    "print(bolum)\n"
   ]
  },
  {
   "cell_type": "markdown",
   "metadata": {},
   "source": [
    "Referanslar - Call by sharing"
   ]
  },
  {
   "cell_type": "code",
   "execution_count": null,
   "metadata": {},
   "outputs": [],
   "source": [
    "# int, string, tuple : immutable\n",
    "\n",
    "a = 3\n",
    "id(a)\n"
   ]
  },
  {
   "cell_type": "code",
   "execution_count": null,
   "metadata": {},
   "outputs": [],
   "source": [
    "s = \"abc\"\n",
    "id(s)\n"
   ]
  },
  {
   "cell_type": "code",
   "execution_count": null,
   "metadata": {},
   "outputs": [],
   "source": [
    "def f(a):\n",
    "    return a\n",
    "\n",
    "\n",
    "id(f)\n"
   ]
  },
  {
   "cell_type": "code",
   "execution_count": null,
   "metadata": {},
   "outputs": [],
   "source": [
    "a = 7\n",
    "print(id(a))\n",
    "\n",
    "a = 8\n",
    "print(id(a))\n",
    "\n",
    "a += 1\n",
    "print(id(a))\n"
   ]
  },
  {
   "cell_type": "code",
   "execution_count": null,
   "metadata": {},
   "outputs": [],
   "source": [
    "# list, dict, set : mutable\n",
    "\n",
    "l = [1, 3]\n",
    "print(id(l))\n",
    "\n",
    "l.append(5)\n",
    "print(id(l))\n",
    "\n",
    "l = [4, 5]\n",
    "print(id(l))\n"
   ]
  },
  {
   "cell_type": "code",
   "execution_count": null,
   "metadata": {},
   "outputs": [],
   "source": [
    "def arttir(a):\n",
    "    a += 1\n",
    "\n",
    "\n",
    "x = 3\n",
    "arttir(x)\n",
    "print(x)\n"
   ]
  },
  {
   "cell_type": "code",
   "execution_count": null,
   "metadata": {},
   "outputs": [],
   "source": [
    "def ekle(s):\n",
    "    s += \" eklendi\"\n",
    "\n",
    "\n",
    "s = \"elma\"\n",
    "ekle(s)\n",
    "\n",
    "print(s)\n"
   ]
  },
  {
   "cell_type": "code",
   "execution_count": null,
   "metadata": {},
   "outputs": [],
   "source": [
    "def guncelle(l):\n",
    "    l[0] = 11\n",
    "\n",
    "\n",
    "l = [1, 2, 3]\n",
    "guncelle(l)\n",
    "\n",
    "print(l)\n"
   ]
  },
  {
   "cell_type": "code",
   "execution_count": null,
   "metadata": {},
   "outputs": [],
   "source": [
    "def degis(l):\n",
    "    l = [1, 2]\n",
    "\n",
    "\n",
    "l = [1, 2, 3]\n",
    "degis(l)\n",
    "\n",
    "print(l)\n"
   ]
  },
  {
   "cell_type": "markdown",
   "metadata": {},
   "source": [
    "nested fonksiyonlar ve global değişkenler"
   ]
  },
  {
   "cell_type": "code",
   "execution_count": null,
   "metadata": {},
   "outputs": [],
   "source": [
    "def kareleri_topla(a, b):\n",
    "    def karesi(x):\n",
    "        return x ** 2\n",
    "\n",
    "    return karesi(a) + karesi(b)\n",
    "\n",
    "\n",
    "print(kareleri_topla(3, 4))\n"
   ]
  },
  {
   "cell_type": "code",
   "execution_count": null,
   "metadata": {},
   "outputs": [],
   "source": [
    "sayi = 5\n"
   ]
  },
  {
   "cell_type": "code",
   "execution_count": null,
   "metadata": {},
   "outputs": [],
   "source": [
    "def besle_topla(x):\n",
    "    toplam = sayi + x\n",
    "    return toplam\n",
    "\n",
    "\n",
    "print(besle_topla(3))\n"
   ]
  },
  {
   "cell_type": "code",
   "execution_count": null,
   "metadata": {},
   "outputs": [],
   "source": [
    "def kupunun_bes_fazlasinin_2_kati(x):\n",
    "    def kupunun_bes_fazlasi(x):\n",
    "        return x ** 3 + sayi\n",
    "\n",
    "    return kupunun_bes_fazlasi(x) * 2\n",
    "\n",
    "\n",
    "print(kupunun_bes_fazlasinin_2_kati(2))\n"
   ]
  },
  {
   "cell_type": "code",
   "execution_count": null,
   "metadata": {},
   "outputs": [],
   "source": [
    "def sayiyi_degistir():\n",
    "    sayi = 7\n",
    "\n",
    "\n",
    "sayiyi_degistir()\n",
    "print(sayi)\n"
   ]
  },
  {
   "cell_type": "code",
   "execution_count": null,
   "metadata": {},
   "outputs": [],
   "source": [
    "def sayiyi_degistir():\n",
    "    global sayi\n",
    "    sayi = 7\n",
    "\n",
    "\n",
    "sayiyi_degistir()\n",
    "print(sayi)\n"
   ]
  },
  {
   "cell_type": "markdown",
   "metadata": {},
   "source": [
    "map, filter, reduce"
   ]
  },
  {
   "cell_type": "code",
   "execution_count": null,
   "metadata": {},
   "outputs": [],
   "source": [
    "def arttir(x):\n",
    "    return x + 1\n",
    "\n",
    "\n",
    "l = [1, 2, 3]\n",
    "\n",
    "map(arttir, l)\n",
    "print(l)\n"
   ]
  },
  {
   "cell_type": "code",
   "execution_count": null,
   "metadata": {},
   "outputs": [],
   "source": [
    "l = map(arttir, l)\n",
    "print(l)\n"
   ]
  },
  {
   "cell_type": "code",
   "execution_count": null,
   "metadata": {},
   "outputs": [],
   "source": [
    "print(list(l))\n"
   ]
  },
  {
   "cell_type": "code",
   "execution_count": null,
   "metadata": {},
   "outputs": [],
   "source": [
    "filter(lambda x: x % 2 == 0, [x for x in range(10)])\n"
   ]
  },
  {
   "cell_type": "code",
   "execution_count": null,
   "metadata": {},
   "outputs": [],
   "source": [
    "list(filter(lambda x: x % 2 == 0, [x for x in range(10)]))\n"
   ]
  },
  {
   "cell_type": "code",
   "execution_count": null,
   "metadata": {},
   "outputs": [],
   "source": [
    "def uce_bolunur(a):\n",
    "    return a % 3 == 0\n",
    "\n",
    "\n",
    "print(list(filter(uce_bolunur, [1, 2, 3, 4, 5, 6])))\n"
   ]
  },
  {
   "cell_type": "code",
   "execution_count": null,
   "metadata": {},
   "outputs": [],
   "source": [
    "from functools import reduce\n",
    "\n",
    "def carp(a, b):\n",
    "    return a * b \n",
    "\n",
    "r = reduce(carp, [1, 2, 3, 4])\n",
    "print(r)"
   ]
  },
  {
   "cell_type": "code",
   "execution_count": null,
   "metadata": {},
   "outputs": [],
   "source": [
    "reduce(lambda x, y: x * y, [1, 3, 5])"
   ]
  },
  {
   "cell_type": "code",
   "execution_count": null,
   "metadata": {},
   "outputs": [],
   "source": [
    "reduce(lambda x, y: [x, y], [1, 2, 3, 4])"
   ]
  },
  {
   "cell_type": "code",
   "execution_count": null,
   "metadata": {},
   "outputs": [],
   "source": []
  }
 ],
 "metadata": {
  "kernelspec": {
   "display_name": "Python 3.9.13 ('tfnew')",
   "language": "python",
   "name": "python3"
  },
  "language_info": {
   "codemirror_mode": {
    "name": "ipython",
    "version": 3
   },
   "file_extension": ".py",
   "mimetype": "text/x-python",
   "name": "python",
   "nbconvert_exporter": "python",
   "pygments_lexer": "ipython3",
   "version": "3.9.13"
  },
  "orig_nbformat": 4,
  "vscode": {
   "interpreter": {
    "hash": "93a508892ad0418bbbef2f3796edd4c06527622cb95cdcc5e9525e8332085ac2"
   }
  }
 },
 "nbformat": 4,
 "nbformat_minor": 2
}
