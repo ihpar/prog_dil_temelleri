{
 "cells": [
  {
   "cell_type": "markdown",
   "metadata": {},
   "source": [
    "https://www.javatpoint.com/what-is-operator-overloading-in-python#:~:text=The%20operator%20overloading%20in%20Python,class%20and%20\"str\"%20class."
   ]
  },
  {
   "cell_type": "code",
   "execution_count": null,
   "metadata": {},
   "outputs": [],
   "source": [
    "class Sayisal:\n",
    "    def __init__(self, num):\n",
    "        self.num = num\n",
    "\n",
    "    # operator overloading\n",
    "    # + operatörü\n",
    "    def __add__(self, other):\n",
    "        return self.num + other.num\n",
    "\n",
    "    # - operatörü\n",
    "    def __sub__(self, other):\n",
    "        return self.num - other.num\n",
    "\n",
    "    # == operatörü\n",
    "    def __eq__(self, other):\n",
    "        return self.num == other.num\n",
    "\n",
    "    # < operatörü\n",
    "    def __lt__(self, other):\n",
    "        return self.num < other.num\n"
   ]
  },
  {
   "cell_type": "code",
   "execution_count": null,
   "metadata": {},
   "outputs": [],
   "source": [
    "s1, s2 = Sayisal(4), Sayisal(6)\n",
    "print(s1 + s2)\n",
    "print(s1 - s2)\n",
    "print(s1 == s2)\n",
    "print(s1 < s2)\n"
   ]
  },
  {
   "cell_type": "code",
   "execution_count": null,
   "metadata": {},
   "outputs": [],
   "source": [
    "print(s1 * s2)\n"
   ]
  },
  {
   "cell_type": "code",
   "execution_count": null,
   "metadata": {},
   "outputs": [],
   "source": [
    "a = 3\n",
    "a.__str__()\n"
   ]
  },
  {
   "cell_type": "code",
   "execution_count": null,
   "metadata": {},
   "outputs": [],
   "source": [
    "class Klas:\n",
    "    def __init__(self, num):\n",
    "        self.num = num\n"
   ]
  },
  {
   "cell_type": "code",
   "execution_count": null,
   "metadata": {},
   "outputs": [],
   "source": [
    "k = Klas(3)\n",
    "print(k)\n"
   ]
  },
  {
   "cell_type": "code",
   "execution_count": null,
   "metadata": {},
   "outputs": [],
   "source": [
    "class Klas:\n",
    "    def __init__(self, num):\n",
    "        self.num = num\n",
    "\n",
    "    # overriding __str__ method\n",
    "    # Java: toString() benzeri\n",
    "    def __str__(self):\n",
    "        return f\"Klas {self.num}\"\n"
   ]
  },
  {
   "cell_type": "code",
   "execution_count": null,
   "metadata": {},
   "outputs": [],
   "source": [
    "k = Klas(3)\n",
    "print(k)\n"
   ]
  },
  {
   "cell_type": "markdown",
   "metadata": {},
   "source": [
    "property decorator"
   ]
  },
  {
   "cell_type": "code",
   "execution_count": null,
   "metadata": {},
   "outputs": [],
   "source": [
    "class Ogr:\n",
    "    def __init__(self, ad, numara):\n",
    "        self.__ad = ad\n",
    "        self.__numara = numara\n",
    "        self.__notlar = []\n",
    "\n",
    "    def not_ekle(self, notlar):\n",
    "        for n in notlar:\n",
    "            self.__notlar.append(n)\n",
    "\n",
    "    def get_ortalama(self):\n",
    "        total = 0\n",
    "        for n in self.__notlar:\n",
    "            total += n\n",
    "        return total / len(self.__notlar)\n",
    "\n",
    "    @property\n",
    "    def ortalama(self):\n",
    "        total = 0\n",
    "        for n in self.__notlar:\n",
    "            total += n\n",
    "        return total / len(self.__notlar)\n"
   ]
  },
  {
   "cell_type": "code",
   "execution_count": null,
   "metadata": {},
   "outputs": [],
   "source": [
    "ogr = Ogr(\"ali\", 123)\n",
    "ogr.not_ekle([50, 100, 70])\n"
   ]
  },
  {
   "cell_type": "code",
   "execution_count": null,
   "metadata": {},
   "outputs": [],
   "source": [
    "ogr.get_ortalama\n"
   ]
  },
  {
   "cell_type": "code",
   "execution_count": null,
   "metadata": {},
   "outputs": [],
   "source": [
    "ogr.get_ortalama()\n"
   ]
  },
  {
   "cell_type": "code",
   "execution_count": null,
   "metadata": {},
   "outputs": [],
   "source": [
    "ogr.ortalama\n"
   ]
  },
  {
   "cell_type": "markdown",
   "metadata": {},
   "source": [
    "\\_\\_iter\\_\\_ : iterables, yield: generators"
   ]
  },
  {
   "cell_type": "code",
   "execution_count": null,
   "metadata": {},
   "outputs": [],
   "source": [
    "class Sayilar:\n",
    "    def __init__(self):\n",
    "        self.__liste = []\n",
    "\n",
    "    def add_sayilar(self, sayi_listesi):\n",
    "        for s in sayi_listesi:\n",
    "            self.__liste.append(s)\n"
   ]
  },
  {
   "cell_type": "code",
   "execution_count": null,
   "metadata": {},
   "outputs": [],
   "source": [
    "sayilar = Sayilar()\n",
    "sayilar.add_sayilar([1, 2, 3])\n"
   ]
  },
  {
   "cell_type": "code",
   "execution_count": null,
   "metadata": {},
   "outputs": [],
   "source": [
    "for s in sayilar:\n",
    "    print(s)\n"
   ]
  },
  {
   "cell_type": "code",
   "execution_count": null,
   "metadata": {},
   "outputs": [],
   "source": [
    "class Sayilar:\n",
    "    def __init__(self):\n",
    "        self.__liste = []\n",
    "\n",
    "    def add_sayilar(self, sayi_listesi):\n",
    "        for s in sayi_listesi:\n",
    "            self.__liste.append(s)\n",
    "\n",
    "    def __iter__(self):\n",
    "        for s in self.__liste:\n",
    "            yield s\n"
   ]
  },
  {
   "cell_type": "code",
   "execution_count": null,
   "metadata": {},
   "outputs": [],
   "source": [
    "sayilar = Sayilar()\n",
    "sayilar.add_sayilar([1, 2, 3])\n"
   ]
  },
  {
   "cell_type": "code",
   "execution_count": null,
   "metadata": {},
   "outputs": [],
   "source": [
    "for s in sayilar:\n",
    "    print(s)\n"
   ]
  },
  {
   "cell_type": "markdown",
   "metadata": {},
   "source": [
    "dunder \\_\\_len\\_\\_ method"
   ]
  },
  {
   "cell_type": "code",
   "execution_count": null,
   "metadata": {},
   "outputs": [],
   "source": [
    "class Sayilar:\n",
    "    def __init__(self):\n",
    "        self.__liste = []\n",
    "\n",
    "    def add_sayilar(self, sayi_listesi):\n",
    "        for s in sayi_listesi:\n",
    "            self.__liste.append(s)\n",
    "\n",
    "    def __iter__(self):\n",
    "        for s in self.__liste:\n",
    "            yield s\n"
   ]
  },
  {
   "cell_type": "code",
   "execution_count": null,
   "metadata": {},
   "outputs": [],
   "source": [
    "sayilar = Sayilar()\n",
    "sayilar.add_sayilar([1, 2, 3])\n"
   ]
  },
  {
   "cell_type": "code",
   "execution_count": null,
   "metadata": {},
   "outputs": [],
   "source": [
    "len(sayilar)\n"
   ]
  },
  {
   "cell_type": "code",
   "execution_count": null,
   "metadata": {},
   "outputs": [],
   "source": [
    "class Sayilar:\n",
    "    def __init__(self):\n",
    "        self.__liste = []\n",
    "\n",
    "    def add_sayilar(self, sayi_listesi):\n",
    "        for s in sayi_listesi:\n",
    "            self.__liste.append(s)\n",
    "\n",
    "    def __iter__(self):\n",
    "        for s in self.__liste:\n",
    "            yield s\n",
    "\n",
    "    def __len__(self):\n",
    "        total = 0\n",
    "        for s in self.__liste:\n",
    "            total += 1\n",
    "        return total\n"
   ]
  },
  {
   "cell_type": "code",
   "execution_count": null,
   "metadata": {},
   "outputs": [],
   "source": [
    "sayilar = Sayilar()\n",
    "sayilar.add_sayilar([1, 2, 3])\n",
    "len(sayilar)\n"
   ]
  },
  {
   "cell_type": "markdown",
   "metadata": {},
   "source": [
    "Doubly Linked List Implementasyonu\n",
    "\n",
    "https://towardsdatascience.com/python-linked-lists-c3622205da81"
   ]
  },
  {
   "cell_type": "code",
   "execution_count": null,
   "metadata": {},
   "outputs": [],
   "source": [
    "class Node:\n",
    "    def __init__(self, value, next_node=None, prev_node=None):\n",
    "        self.value = value\n",
    "        self.next = next_node\n",
    "        self.prev = prev_node\n",
    "\n",
    "    def __str__(self):\n",
    "        return str(self.value)\n"
   ]
  },
  {
   "cell_type": "code",
   "execution_count": null,
   "metadata": {},
   "outputs": [],
   "source": [
    "class LinkedList:\n",
    "    def __init__(self, values=None):\n",
    "        self.head = None\n",
    "        self.tail = None\n",
    "        if values is not None:\n",
    "            self.add_multiple_nodes(values)\n",
    "\n",
    "    def __str__(self):\n",
    "        return ' -> '.join([str(node) for node in self])\n",
    "\n",
    "    def __len__(self):\n",
    "        count = 0\n",
    "        node = self.head\n",
    "        while node:\n",
    "            count += 1\n",
    "            node = node.next\n",
    "        return count\n",
    "\n",
    "    def __iter__(self):\n",
    "        current = self.head\n",
    "        while current:\n",
    "            yield current\n",
    "            current = current.next\n",
    "\n",
    "    @property\n",
    "    def values(self):\n",
    "        return [node.value for node in self]\n",
    "\n",
    "    def add_node(self, value):\n",
    "        if self.head is None:\n",
    "            self.tail = self.head = Node(value)\n",
    "        else:\n",
    "            self.tail.next = Node(value)\n",
    "            self.tail = self.tail.next\n",
    "        return self.tail\n",
    "\n",
    "    def add_multiple_nodes(self, values):\n",
    "        for value in values:\n",
    "            self.add_node(value)\n",
    "\n",
    "    def add_node_as_head(self, value):\n",
    "        if self.head is None:\n",
    "            self.tail = self.head = Node(value)\n",
    "        else:\n",
    "            self.head = Node(value, self.head)\n",
    "        return self.head\n"
   ]
  },
  {
   "cell_type": "code",
   "execution_count": null,
   "metadata": {},
   "outputs": [],
   "source": [
    "class DoublyLinkedList(LinkedList):\n",
    "    def add_node(self, value):\n",
    "        if self.head is None:\n",
    "            self.tail = self.head = Node(value)\n",
    "        else:\n",
    "            self.tail.next = Node(value, None, self.tail)\n",
    "            self.tail = self.tail.next\n",
    "        return self\n",
    "\n",
    "    def add_node_as_head(self, value):\n",
    "        if self.head is None:\n",
    "            self.tail = self.head = Node(value)\n",
    "        else:\n",
    "            current_head = self.head\n",
    "            self.head = Node(value, current_head)\n",
    "            current_head.prev = self.head\n",
    "        return self.head\n"
   ]
  },
  {
   "cell_type": "code",
   "execution_count": null,
   "metadata": {},
   "outputs": [],
   "source": [
    "dll = DoublyLinkedList()\n",
    "dll.add_node(3)\n",
    "dll.add_multiple_nodes([5, 8, 12])\n"
   ]
  },
  {
   "cell_type": "code",
   "execution_count": null,
   "metadata": {},
   "outputs": [],
   "source": [
    "print(dll)\n"
   ]
  },
  {
   "cell_type": "code",
   "execution_count": null,
   "metadata": {},
   "outputs": [],
   "source": [
    "len(dll)\n"
   ]
  },
  {
   "cell_type": "code",
   "execution_count": null,
   "metadata": {},
   "outputs": [],
   "source": [
    "dll.values\n"
   ]
  }
 ],
 "metadata": {
  "kernelspec": {
   "display_name": "Python 3.9.13 ('tfnew')",
   "language": "python",
   "name": "python3"
  },
  "language_info": {
   "codemirror_mode": {
    "name": "ipython",
    "version": 3
   },
   "file_extension": ".py",
   "mimetype": "text/x-python",
   "name": "python",
   "nbconvert_exporter": "python",
   "pygments_lexer": "ipython3",
   "version": "3.9.13"
  },
  "orig_nbformat": 4,
  "vscode": {
   "interpreter": {
    "hash": "93a508892ad0418bbbef2f3796edd4c06527622cb95cdcc5e9525e8332085ac2"
   }
  }
 },
 "nbformat": 4,
 "nbformat_minor": 2
}
